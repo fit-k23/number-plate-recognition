{
 "nbformat": 4,
 "nbformat_minor": 0,
 "metadata": {
  "colab": {
   "provenance": [],
   "mount_file_id": "1oWPu2Zgh6URKUAy7f-MP98kQtzvUlJE1",
   "authorship_tag": "ABX9TyOTS8qu+vBKS1mDDql3FPSL"
  },
  "kernelspec": {
   "name": "python3",
   "display_name": "Python 3"
  },
  "language_info": {
   "name": "python"
  }
 },
 "cells": [
  {
   "cell_type": "markdown",
   "source": [
    "Install required library"
   ],
   "metadata": {
    "collapsed": false
   }
  },
  {
   "cell_type": "code",
   "execution_count": 1,
   "outputs": [
    {
     "output_type": "stream",
     "name": "stdout",
     "text": [
      "Collecting flask_ngrok\n",
      "  Downloading flask_ngrok-0.0.25-py3-none-any.whl (3.1 kB)\n",
      "Requirement already satisfied: Flask>=0.8 in /usr/local/lib/python3.10/dist-packages (from flask_ngrok) (2.2.5)\n",
      "Requirement already satisfied: requests in /usr/local/lib/python3.10/dist-packages (from flask_ngrok) (2.31.0)\n",
      "Requirement already satisfied: Werkzeug>=2.2.2 in /usr/local/lib/python3.10/dist-packages (from Flask>=0.8->flask_ngrok) (3.0.1)\n",
      "Requirement already satisfied: Jinja2>=3.0 in /usr/local/lib/python3.10/dist-packages (from Flask>=0.8->flask_ngrok) (3.1.2)\n",
      "Requirement already satisfied: itsdangerous>=2.0 in /usr/local/lib/python3.10/dist-packages (from Flask>=0.8->flask_ngrok) (2.1.2)\n",
      "Requirement already satisfied: click>=8.0 in /usr/local/lib/python3.10/dist-packages (from Flask>=0.8->flask_ngrok) (8.1.7)\n",
      "Requirement already satisfied: charset-normalizer<4,>=2 in /usr/local/lib/python3.10/dist-packages (from requests->flask_ngrok) (3.3.2)\n",
      "Requirement already satisfied: idna<4,>=2.5 in /usr/local/lib/python3.10/dist-packages (from requests->flask_ngrok) (3.6)\n",
      "Requirement already satisfied: urllib3<3,>=1.21.1 in /usr/local/lib/python3.10/dist-packages (from requests->flask_ngrok) (2.0.7)\n",
      "Requirement already satisfied: certifi>=2017.4.17 in /usr/local/lib/python3.10/dist-packages (from requests->flask_ngrok) (2023.11.17)\n",
      "Requirement already satisfied: MarkupSafe>=2.0 in /usr/local/lib/python3.10/dist-packages (from Jinja2>=3.0->Flask>=0.8->flask_ngrok) (2.1.3)\n",
      "Installing collected packages: flask_ngrok\n",
      "Successfully installed flask_ngrok-0.0.25\n",
      "Collecting pyngrok==4.1.1\n",
      "  Downloading pyngrok-4.1.1.tar.gz (18 kB)\n",
      "  Preparing metadata (setup.py) ... \u001B[?25l\u001B[?25hdone\n",
      "Requirement already satisfied: future in /usr/local/lib/python3.10/dist-packages (from pyngrok==4.1.1) (0.18.3)\n",
      "Requirement already satisfied: PyYAML in /usr/local/lib/python3.10/dist-packages (from pyngrok==4.1.1) (6.0.1)\n",
      "Building wheels for collected packages: pyngrok\n",
      "  Building wheel for pyngrok (setup.py) ... \u001B[?25l\u001B[?25hdone\n",
      "  Created wheel for pyngrok: filename=pyngrok-4.1.1-py3-none-any.whl size=15963 sha256=23ebc88e8f73b3c05223cfd8c7b93262ee5f3dddc7c532342ce82ec660a0ac73\n",
      "  Stored in directory: /root/.cache/pip/wheels/4c/7c/4c/632fba2ea8e88d8890102eb07bc922e1ca8fa14db5902c91a8\n",
      "Successfully built pyngrok\n",
      "Installing collected packages: pyngrok\n",
      "Successfully installed pyngrok-4.1.1\n",
      "Requirement already satisfied: flask in /usr/local/lib/python3.10/dist-packages (2.2.5)\n",
      "Requirement already satisfied: Werkzeug>=2.2.2 in /usr/local/lib/python3.10/dist-packages (from flask) (3.0.1)\n",
      "Requirement already satisfied: Jinja2>=3.0 in /usr/local/lib/python3.10/dist-packages (from flask) (3.1.2)\n",
      "Requirement already satisfied: itsdangerous>=2.0 in /usr/local/lib/python3.10/dist-packages (from flask) (2.1.2)\n",
      "Requirement already satisfied: click>=8.0 in /usr/local/lib/python3.10/dist-packages (from flask) (8.1.7)\n",
      "Requirement already satisfied: MarkupSafe>=2.0 in /usr/local/lib/python3.10/dist-packages (from Jinja2>=3.0->flask) (2.1.3)\n",
      "Authtoken saved to configuration file: /root/.ngrok2/ngrok.yml\n"
     ]
    }
   ],
   "source": [
    "!pip install flask_ngrok\n",
    "!pip install pyngrok==4.1.1\n",
    "!pip install flask\n",
    "\n",
    "!pip install pytesseract\n",
    "!sudo apt install tesseract-ocr\n",
    "\n",
    "!ngrok authtoken 2ZxgAYykFkcOs7dUCRmQRo0i8eg_5Db2J4bDU5gFa1CfJNYH9 # ngrok token"
   ],
   "metadata": {
    "colab": {
     "base_uri": "https://localhost:8080/"
    },
    "id": "mOHADrwgLFhg",
    "executionInfo": {
     "status": "ok",
     "timestamp": 1703427263673,
     "user_tz": -420,
     "elapsed": 30729,
     "user": {
      "displayName": "Arie",
      "userId": "07076583967864358002"
     }
    },
    "outputId": "8da45f3b-a3d8-4a54-e1eb-aa455656f241"
   }
  },
  {
   "cell_type": "markdown",
   "source": [
    "# Testing the flask "
   ],
   "metadata": {
    "collapsed": false
   }
  },
  {
   "cell_type": "code",
   "execution_count": 3,
   "outputs": [
    {
     "output_type": "stream",
     "name": "stdout",
     "text": [
      " * Serving Flask app '__main__'\n",
      " * Debug mode: off\n"
     ]
    },
    {
     "output_type": "stream",
     "name": "stderr",
     "text": [
      "INFO:werkzeug:\u001B[31m\u001B[1mWARNING: This is a development server. Do not use it in a production deployment. Use a production WSGI server instead.\u001B[0m\n",
      " * Running on http://127.0.0.1:5000\n",
      "INFO:werkzeug:\u001B[33mPress CTRL+C to quit\u001B[0m\n"
     ]
    },
    {
     "output_type": "stream",
     "name": "stdout",
     "text": [
      " * Running on http://9132-35-231-140-208.ngrok-free.app\n",
      " * Traffic stats available on http://127.0.0.1:4040\n"
     ]
    }
   ],
   "source": [
    "from flask import Flask\n",
    "from flask_ngrok import run_with_ngrok\n",
    "\n",
    "app = Flask(__name__)\n",
    "run_with_ngrok(app)\n",
    "\n",
    "@app.route(\"/\")\n",
    "def home():\n",
    "  return \"<h1>Welcome to adnl</h1>\"\n",
    "\n",
    "app.run()"
   ],
   "metadata": {
    "colab": {
     "base_uri": "https://localhost:8080/"
    },
    "id": "tLjb7Qx7L4Gs",
    "executionInfo": {
     "status": "ok",
     "timestamp": 1703427603322,
     "user_tz": -420,
     "elapsed": 19936,
     "user": {
      "displayName": "Arie",
      "userId": "07076583967864358002"
     }
    },
    "outputId": "b7132ca8-8e14-4b6d-c917-d92b979e90b9"
   }
  },
  {
   "cell_type": "markdown",
   "source": [
    "# Load the pre-trained model, changing the path is required!"
   ],
   "metadata": {
    "collapsed": false
   }
  },
  {
   "cell_type": "code",
   "execution_count": null,
   "outputs": [],
   "source": [
    "import os\n",
    "import numpy as np\n",
    "import cv2\n",
    "import matplotlib.pyplot as plt\n",
    "import tensorflow as tf\n",
    "from tensorflow.keras.preprocessing.image import load_img, img_to_array\n",
    "import pytesseract as pt\n",
    "\n",
    "model = tf.keras.models.load_model(\n",
    "    '/content/drive/MyDrive/npr/WebbApp/original.keras')\n",
    "\n",
    "def object_detection(path, filename):\n",
    "    # Read image\n",
    "    image = load_img(path)  # PIL object\n",
    "    image = np.array(image, dtype=np.uint8)  # 8 bit array (0,255)\n",
    "    image1 = load_img(path, target_size=(224, 224))\n",
    "    # Data preprocessing\n",
    "    # Convert into array and get the normalized output\n",
    "    image_arr_224 = img_to_array(image1)/255.0\n",
    "    h, w, d = image.shape\n",
    "    test_arr = image_arr_224.reshape(1, 224, 224, 3)\n",
    "    # Make predictions\n",
    "    coords = model.predict(test_arr)\n",
    "    # Denormalize the values\n",
    "    denorm = np.array([w, w, h, h])\n",
    "    coords = coords * denorm\n",
    "    coords = coords.astype(np.int32)\n",
    "    # Draw bounding on top the image\n",
    "    xmin, xmax, ymin, ymax = coords[0]\n",
    "    pt1 = (xmin, ymin)\n",
    "    pt2 = (xmax, ymax)\n",
    "    print(pt1, pt2)\n",
    "    cv2.rectangle(image, pt1, pt2, (0, 255, 0), 3)\n",
    "    # Convert into bgr\n",
    "    image_bgr = cv2.cvtColor(image, cv2.COLOR_RGB2BGR)\n",
    "    cv2.imwrite(\n",
    "        '/content/drive/MyDrive/npr/WebbApp/static/predict/{}'.format(filename), image_bgr)\n",
    "    return coords\n",
    "\n",
    "\n",
    "def save_text(filename, text):\n",
    "    name, ext = os.path.splitext(filename)\n",
    "    with open('/content/drive/MyDrive/npr/WebbApp/static/predict/{}.txt'.format(name), mode='w') as f:\n",
    "        f.write(text)\n",
    "    f.close()\n",
    "\n",
    "\n",
    "def OCR(path, filename):\n",
    "    img = np.array(load_img(path))\n",
    "    cods = object_detection(path, filename)\n",
    "    xmin, xmax, ymin, ymax = cods[0]\n",
    "    roi = img[ymin:ymax, xmin:xmax]\n",
    "    roi_bgr = cv2.cvtColor(roi, cv2.COLOR_RGB2BGR)\n",
    "    gray = cv2.cvtColor(roi_bgr, cv2.COLOR_BGR2GRAY)\n",
    "    magic_color = apply_brightness_contrast(gray, brightness=40, contrast=70)\n",
    "    cv2.imwrite(\n",
    "        '/content/drive/MyDrive/npr/WebbApp/static/roi/{}'.format(filename), roi_bgr)\n",
    "\n",
    "    text = pt.image_to_string(magic_color, lang='eng', config='--psm 6')\n",
    "    print(text)\n",
    "    save_text(filename, text)\n",
    "    return text\n",
    "\n",
    "\n",
    "def apply_brightness_contrast(input_img, brightness=0, contrast=0):\n",
    "\n",
    "    if brightness != 0:\n",
    "        if brightness > 0:\n",
    "            shadow = brightness\n",
    "            highlight = 255\n",
    "        else:\n",
    "            shadow = 0\n",
    "            highlight = 255 + brightness\n",
    "        alpha_b = (highlight - shadow)/255\n",
    "        gamma_b = shadow\n",
    "\n",
    "        buf = cv2.addWeighted(input_img, alpha_b, input_img, 0, gamma_b)\n",
    "    else:\n",
    "        buf = input_img.copy()\n",
    "\n",
    "    if contrast != 0:\n",
    "        f = 131*(contrast + 127)/(127*(131-contrast))\n",
    "        alpha_c = f\n",
    "        gamma_c = 127*(1-f)\n",
    "\n",
    "        buf = cv2.addWeighted(buf, alpha_c, buf, 0, gamma_c)\n",
    "\n",
    "    return buf\n"
   ],
   "metadata": {
    "id": "kyiWZi3qLLqL"
   }
  },
  {
   "cell_type": "code",
   "source": [
    "from flask import Flask, render_template, request\n",
    "import os\n",
    "from flask.templating import render_template\n",
    "from flask import Flask\n",
    "from flask_ngrok import run_with_ngrok\n",
    "# webserver gateway interface\n",
    "\n",
    "template_folder = '/content/drive/MyDrive/npr/WebbApp/templates'\n",
    "\n",
    "app = Flask (__name__,template_folder=template_folder)\n",
    "run_with_ngrok(app)\n",
    "BASE_PATH = os.getcwd()\n",
    "UPLOAD_PATH = os.path.join(\n",
    "    BASE_PATH, '/content/drive/MyDrive/npr/WebbApp/static/upload')\n",
    "\n",
    "@app.route('/', methods=['POST', 'GET'])\n",
    "def index():\n",
    "    if request.method == 'POST':\n",
    "        upload_file = request.files['image_name']\n",
    "        filename = upload_file.filename\n",
    "        path_save = os.path.join(UPLOAD_PATH, filename)\n",
    "        upload_file.save(path_save)\n",
    "        text = OCR(path_save, filename)\n",
    "\n",
    "        return render_template('index.html', upload=True, upload_image=filename, text=text)\n",
    "\n",
    "    return render_template('index.html', upload=False)\n",
    "\n",
    "\n",
    "if __name__ == \"__main__\":\n",
    "    app.run()"
   ],
   "metadata": {
    "id": "xhWHnA2hLTUU"
   },
   "execution_count": null,
   "outputs": []
  }
 ]
}
